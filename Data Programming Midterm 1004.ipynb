{
 "cells": [
  {
   "cell_type": "markdown",
   "id": "3f036822",
   "metadata": {},
   "source": [
    "# Question 21"
   ]
  },
  {
   "cell_type": "markdown",
   "id": "218f6a3d",
   "metadata": {},
   "source": [
    "In a jupyter notebook solve the following question. Please upload the notebook to GitHub and provide the link submission box below.\n",
    "\n",
    "__int()__: Constructor that takes as input a pair of Point objects that represent the ends points of the line segment\n",
    "\n",
    "Length():: returns the length if the segment \n",
    "\n",
    "Slope() returns the slope of the segment of none if the slope is unbounded \n",
    "\n",
    ">>> p1 = Point(3,4)\n",
    ">>> p2 = Point()\n",
    ">>> s = Segment(p1,p2)\n",
    ">>> s.length()\n",
    "5.0\n",
    ">>> s.slope()\n",
    "0.75"
   ]
  },
  {
   "cell_type": "code",
   "execution_count": 73,
   "id": "8631d418",
   "metadata": {},
   "outputs": [],
   "source": [
    "# Define a class for Point objects\n",
    "class Point:\n",
    "    # Constructor that takes x and y coordinates as input\n",
    "    def __init__(self, x, y):\n",
    "        self.x = x\n",
    "        self.y = y\n",
    "\n",
    "    # Method to calculate the distance between two points\n",
    "    def distance(self, other):\n",
    "        return ((self.x - other.x) ** 2 + (self.y - other.y) ** 2) ** 0.5\n",
    "\n",
    "# Define a class for Segment objects\n",
    "class Segment:\n",
    "    # Constructor that takes two Point objects as input\n",
    "    def __init__(self, p1, p2):\n",
    "        self.p1 = p1\n",
    "        self.p2 = p2\n",
    "\n",
    "    # Method to calculate the length of the segment\n",
    "    def length(self):\n",
    "        return self.p1.distance(self.p2)\n",
    "\n",
    "    # Method to calculate the slope of the segment or None if the slope is unbounded\n",
    "    def slope(self):\n",
    "        if self.p1.x == self.p2.x: # vertical line\n",
    "            return None\n",
    "        else:\n",
    "            return (self.p1.y - self.p2.y) / (self.p1.x - self.p2.x)"
   ]
  },
  {
   "cell_type": "code",
   "execution_count": 74,
   "id": "f5a2cf2d",
   "metadata": {},
   "outputs": [
    {
     "name": "stdout",
     "output_type": "stream",
     "text": [
      "The length of the segment is 5.0\n",
      "The slope of the segment is 0.75\n"
     ]
    }
   ],
   "source": [
    "p1 = Point(3,4)\n",
    "p2 = Point(-1,1)\n",
    "s = Segment(p1,p2)\n",
    "print(\"The length of the segment is\", s.length())\n",
    "print(\"The slope of the segment is\", s.slope())"
   ]
  },
  {
   "cell_type": "markdown",
   "id": "6b663af5",
   "metadata": {},
   "source": [
    "# Question 22"
   ]
  },
  {
   "cell_type": "markdown",
   "id": "ec200333",
   "metadata": {},
   "source": [
    "In a jupyter notebook solve the following question using both python and SQL. Please upload the notebook to GitHub and provide the link submission box below.\n",
    "\n",
    "+---------------+---------+\n",
    "| Column Name   | Type    |\n",
    "+---------------+---------+\n",
    "| id            | int     |\n",
    "| recordDate    | date    |\n",
    "| temperature   | int     |\n",
    "+---------------+---------+\n",
    "id is the column with unique values for this table.\n",
    "This table contains information about the temperature on a certain day.\n",
    " \n",
    "Write a solution to find all dates' Id with higher temperatures compared to its previous dates (yesterday).\n",
    "Return the result table in any order.\n",
    "Please use the following input Weather table for your solution. To receive full marks you will need to create the database, create the table, insert the data below and execute the SQL query.\n",
    "\n",
    "Input: \n",
    "Weather table:\n",
    "+----+------------+-------------+\n",
    "| id | recordDate | temperature |\n",
    "+----+------------+-------------+\n",
    "| 1  | 2015-01-01 | 10          |\n",
    "| 2  | 2015-01-02 | 25          |\n",
    "| 3  | 2015-01-03 | 20          |\n",
    "| 4  | 2015-01-04 | 30          |\n",
    "+----+------------+-------------+\n",
    "Output: \n",
    "+----+\n",
    "| id |\n",
    "+----+\n",
    "| 2  |\n",
    "| 4  |\n",
    "+----+"
   ]
  },
  {
   "cell_type": "code",
   "execution_count": 9,
   "id": "394d4fd2",
   "metadata": {},
   "outputs": [
    {
     "data": {
      "text/html": [
       "<div>\n",
       "<style scoped>\n",
       "    .dataframe tbody tr th:only-of-type {\n",
       "        vertical-align: middle;\n",
       "    }\n",
       "\n",
       "    .dataframe tbody tr th {\n",
       "        vertical-align: top;\n",
       "    }\n",
       "\n",
       "    .dataframe thead th {\n",
       "        text-align: right;\n",
       "    }\n",
       "</style>\n",
       "<table border=\"1\" class=\"dataframe\">\n",
       "  <thead>\n",
       "    <tr style=\"text-align: right;\">\n",
       "      <th></th>\n",
       "      <th>id</th>\n",
       "      <th>recordDate</th>\n",
       "      <th>temperature</th>\n",
       "    </tr>\n",
       "  </thead>\n",
       "  <tbody>\n",
       "    <tr>\n",
       "      <th>0</th>\n",
       "      <td>1</td>\n",
       "      <td>2015-01-01</td>\n",
       "      <td>10</td>\n",
       "    </tr>\n",
       "    <tr>\n",
       "      <th>1</th>\n",
       "      <td>2</td>\n",
       "      <td>2015-01-02</td>\n",
       "      <td>25</td>\n",
       "    </tr>\n",
       "    <tr>\n",
       "      <th>2</th>\n",
       "      <td>3</td>\n",
       "      <td>2015-01-03</td>\n",
       "      <td>20</td>\n",
       "    </tr>\n",
       "    <tr>\n",
       "      <th>3</th>\n",
       "      <td>4</td>\n",
       "      <td>2015-01-04</td>\n",
       "      <td>30</td>\n",
       "    </tr>\n",
       "  </tbody>\n",
       "</table>\n",
       "</div>"
      ],
      "text/plain": [
       "   id  recordDate  temperature\n",
       "0   1  2015-01-01           10\n",
       "1   2  2015-01-02           25\n",
       "2   3  2015-01-03           20\n",
       "3   4  2015-01-04           30"
      ]
     },
     "execution_count": 9,
     "metadata": {},
     "output_type": "execute_result"
    }
   ],
   "source": [
    "# Import pandas and sqlite3 libraries\n",
    "import pandas as pd\n",
    "import sqlite3\n",
    "\n",
    "# Create a dataframe with the input data\n",
    "weather_df = pd.DataFrame({\n",
    "    \"id\": [1, 2, 3, 4],\n",
    "    \"recordDate\": [\"2015-01-01\", \"2015-01-02\", \"2015-01-03\", \"2015-01-04\"],\n",
    "    \"temperature\": [10, 25, 20, 30]\n",
    "})\n",
    "\n",
    "# Display the dataframe\n",
    "weather_df"
   ]
  },
  {
   "cell_type": "code",
   "execution_count": 10,
   "id": "5414ce04",
   "metadata": {},
   "outputs": [
    {
     "data": {
      "text/html": [
       "<div>\n",
       "<style scoped>\n",
       "    .dataframe tbody tr th:only-of-type {\n",
       "        vertical-align: middle;\n",
       "    }\n",
       "\n",
       "    .dataframe tbody tr th {\n",
       "        vertical-align: top;\n",
       "    }\n",
       "\n",
       "    .dataframe thead th {\n",
       "        text-align: right;\n",
       "    }\n",
       "</style>\n",
       "<table border=\"1\" class=\"dataframe\">\n",
       "  <thead>\n",
       "    <tr style=\"text-align: right;\">\n",
       "      <th></th>\n",
       "      <th>id</th>\n",
       "    </tr>\n",
       "  </thead>\n",
       "  <tbody>\n",
       "    <tr>\n",
       "      <th>0</th>\n",
       "      <td>2</td>\n",
       "    </tr>\n",
       "    <tr>\n",
       "      <th>1</th>\n",
       "      <td>4</td>\n",
       "    </tr>\n",
       "  </tbody>\n",
       "</table>\n",
       "</div>"
      ],
      "text/plain": [
       "   id\n",
       "0   2\n",
       "1   4"
      ]
     },
     "execution_count": 10,
     "metadata": {},
     "output_type": "execute_result"
    }
   ],
   "source": [
    "# Create a connection to a SQLite database in memory\n",
    "conn = sqlite3.connect(\":memory:\")\n",
    "\n",
    "# Write the dataframe to the database as a table named Weather\n",
    "weather_df.to_sql(\"Weather\", conn, index=False)\n",
    "\n",
    "# Define a SQL query to find all dates' Id with higher temperatures compared to its previous dates (yesterday)\n",
    "sql_query = \"\"\"\n",
    "SELECT w1.id\n",
    "FROM Weather w1\n",
    "JOIN Weather w2\n",
    "ON w1.recordDate = date(w2.recordDate, '+1 day')\n",
    "WHERE w1.temperature > w2.temperature;\n",
    "\"\"\"\n",
    "\n",
    "# Execute the SQL query and store the result in a dataframe\n",
    "result_df = pd.read_sql_query(sql_query, conn)\n",
    "\n",
    "# Display the result dataframe\n",
    "result_df"
   ]
  },
  {
   "cell_type": "markdown",
   "id": "905c5262",
   "metadata": {},
   "source": [
    "# Question 23"
   ]
  },
  {
   "cell_type": "markdown",
   "id": "65f8c238",
   "metadata": {},
   "source": [
    "In a jupyter notebook solve the following question using python. Please upload the notebook to GitHub and provide the link submission box below.\n",
    "Develop a recursive function tough() that takes two nonnegative integer arguments and outputs a pattern as shown below. Hint: The first argument represents the indentation of the pattern, where the second argument -- always a pattern of 2 indicates the number *s in the longest line of *s in the pattern"
   ]
  },
  {
   "cell_type": "code",
   "execution_count": 75,
   "id": "2ee17bf3",
   "metadata": {},
   "outputs": [],
   "source": [
    "def tough(i, n):\n",
    "    if n == 0:\n",
    "        return\n",
    "    if n == 1:\n",
    "        print(\" \" * i + \"*\")\n",
    "    else:\n",
    "        tough(i, n - 1)\n",
    "        print(\" \" * i + \"*\" * n)\n",
    "        tough(i + n, n - 1)"
   ]
  },
  {
   "cell_type": "code",
   "execution_count": 76,
   "id": "88a66b32",
   "metadata": {},
   "outputs": [
    {
     "name": "stdout",
     "output_type": "stream",
     "text": [
      "f(0,0):\n",
      "\n",
      "f(0,1):\n",
      "*\n",
      "\n",
      "f(0,2):\n",
      "*\n",
      "**\n",
      "  *\n",
      "\n",
      "f(0,4):\n",
      "*\n",
      "**\n",
      "  *\n",
      "***\n",
      "   *\n",
      "   **\n",
      "     *\n",
      "****\n",
      "    *\n",
      "    **\n",
      "      *\n",
      "    ***\n",
      "       *\n",
      "       **\n",
      "         *\n"
     ]
    }
   ],
   "source": [
    "print(\"f(0,0):\")\n",
    "tough(0, 0)\n",
    "\n",
    "print(\"\\nf(0,1):\")\n",
    "tough(0, 1)\n",
    "\n",
    "print(\"\\nf(0,2):\")\n",
    "tough(0, 2)\n",
    "\n",
    "print(\"\\nf(0,4):\")\n",
    "tough(0, 4)"
   ]
  },
  {
   "cell_type": "code",
   "execution_count": null,
   "id": "b7d60460",
   "metadata": {},
   "outputs": [],
   "source": []
  }
 ],
 "metadata": {
  "kernelspec": {
   "display_name": "Python 3 (ipykernel)",
   "language": "python",
   "name": "python3"
  },
  "language_info": {
   "codemirror_mode": {
    "name": "ipython",
    "version": 3
   },
   "file_extension": ".py",
   "mimetype": "text/x-python",
   "name": "python",
   "nbconvert_exporter": "python",
   "pygments_lexer": "ipython3",
   "version": "3.11.4"
  }
 },
 "nbformat": 4,
 "nbformat_minor": 5
}
